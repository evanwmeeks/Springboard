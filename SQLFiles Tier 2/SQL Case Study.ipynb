{
 "cells": [
  {
   "cell_type": "markdown",
   "id": "e4c42717",
   "metadata": {},
   "source": [
    "**The code below is the completed \"Tier 2\" of Springboard's \"SQL Case Study - Country Club\" for the Data Science Career Track. The first 9 questions were completed using PostgreSQL in PHPMyAdmin, before completing the remaining questions in this Jupyter Notebook using python and the sqlite3 package.**"
   ]
  },
  {
   "cell_type": "code",
   "execution_count": 6,
   "id": "8e3f9a5b",
   "metadata": {},
   "outputs": [],
   "source": [
    "\"\"\"/* QUESTIONS \n",
    "/* Q1: Some of the facilities charge a fee to members, but some do not.\n",
    "Write a SQL query to produce a list of the names of the facilities that do. */\n",
    "SELECT name\n",
    "FROM Facilities\n",
    "WHERE membercost >0\n",
    "\n",
    "\n",
    "\n",
    "/* Q2: How many facilities do not charge a fee to members? */\n",
    "SELECT COUNT(name)\n",
    "FROM Facilities\n",
    "WHERE membercost = 0;\n",
    "\n",
    "/* Q3: Write an SQL query to show a list of facilities that charge a fee to members,\n",
    "where the fee is less than 20% of the facility's monthly maintenance cost.\n",
    "Return the facid, facility name, member cost, and monthly maintenance of the\n",
    "facilities in question. */\n",
    "SELECT facid, name, membercost, monthlymaintenance\n",
    "FROM Facilities\n",
    "WHERE membercost > 0 AND membercost < (monthlymaintenance*0.2);\n",
    "\n",
    "/* Q4: Write an SQL query to retrieve the details of facilities with ID 1 and 5.\n",
    "Try writing the query without using the OR operator. */\n",
    "SELECT * \n",
    "FROM Facilities\n",
    "WHERE facid > 0 \n",
    "AND facid NOT BETWEEN 2 AND 4 \n",
    "AND facid < 6;\n",
    "\n",
    "/* Q5: Produce a list of facilities, with each labelled as\n",
    "'cheap' or 'expensive', depending on if their monthly maintenance cost is\n",
    "more than $100. Return the name and monthly maintenance of the facilities\n",
    "in question. */\n",
    "SELECT name, monthlymaintenance,\n",
    "CASE \n",
    "    WHEN monthlymaintenance > 100 THEN 'Expensive'\n",
    "    ELSE 'Cheap'\n",
    "END AS label\n",
    "FROM Facilities\n",
    "ORDER BY label DESC;\n",
    "\n",
    "\n",
    "\n",
    "/* Q6: You'd like to get the first and last name of the last member(s)\n",
    "who signed up. Try not to use the LIMIT clause for your solution. */\n",
    "SELECT firstname, surname, MAX(joindate) as joindate\n",
    "FROM Members\n",
    "WHERE firstname <> \"GUEST\";\n",
    "\n",
    "\n",
    "/* Q7: Produce a list of all members who have used a tennis court.\n",
    "Include in your output the name of the court, and the name of the member\n",
    "formatted as a single column. Ensure no duplicate data, and order by\n",
    "the member name. */\n",
    "SELECT f.name AS 'facility', \n",
    "\tCONCAT_WS(\" \", m.firstname, m.surname) AS 'member'\n",
    "FROM Bookings as b\n",
    "LEFT JOIN Facilities as f \n",
    "\tON b.facid = f.facid\n",
    "LEFT JOIN Members as m\n",
    "\tON b.memid = m.memid\n",
    "WHERE f.name LIKE 'Tennis Court %'\n",
    "GROUP BY member\n",
    "ORDER BY member;\n",
    "\n",
    "\n",
    "/* Q8: Produce a list of bookings on the day of 2012-09-14 which\n",
    "will cost the member (or guest) more than $30. Remember that guests have\n",
    "different costs to members (the listed costs are per half-hour 'slot'), and\n",
    "the guest user's ID is always 0. Include in your output the name of the\n",
    "facility, the name of the member formatted as a single column, and the cost.\n",
    "Order by descending cost, and do not use any subqueries. */\n",
    "SELECT f.name as 'facility', CONCAT_WS(\" \", m.firstname, m.surname) AS 'member',\n",
    "    CASE \n",
    "        WHEN \n",
    "            m.memid > 0 THEN slots*membercost\n",
    "        WHEN\n",
    "            m.memid = 0 THEN slots*guestcost\n",
    "        END AS 'cost'\n",
    "FROM Bookings as b\n",
    "LEFT JOIN Facilities as f \n",
    "    ON b.facid = f.facid\n",
    "LEFT JOIN Members as m\n",
    "    ON b.memid = m.memid\n",
    "WHERE date(b.starttime) = '12-09-14' HAVING cost > 30\n",
    "ORDER BY cost DESC;\n",
    "\n",
    "/* Q9: This time, produce the same result as in Q8, but using a subquery. */\n",
    "SELECT\n",
    " name as 'facility', CONCAT_WS(\" \", s.firstname, s.surname) AS 'member', cost\n",
    "FROM\n",
    "  (\n",
    "  SELECT\n",
    "    firstname,\n",
    "    surname,\n",
    "    name,\n",
    "    CASE \n",
    "        WHEN firstname = 'GUEST' \n",
    "            THEN guestcost * slots \n",
    "        ELSE membercost * slots \n",
    "    END AS cost, \n",
    "    starttime\n",
    "  FROM \n",
    "    Members\n",
    "  INNER JOIN Bookings\n",
    "  ON Members.memid = Bookings.memid\n",
    "  INNER JOIN Facilities\n",
    "  ON Bookings.facid = Facilities.facid\n",
    "  ) AS s\n",
    "WHERE \n",
    "  starttime = '2012-09-14'\n",
    " AND cost > 30\n",
    "ORDER BY cost DESC;\"\"\";"
   ]
  },
  {
   "cell_type": "markdown",
   "id": "faefba1e",
   "metadata": {},
   "source": [
    "**Below are the questions completed inside this notebook using python/sqlite3:**"
   ]
  },
  {
   "cell_type": "code",
   "execution_count": null,
   "id": "eff8cedc",
   "metadata": {},
   "outputs": [],
   "source": [
    "import sqlite3\n",
    "import pandas as pd # Using pandas to clean up appearances of query results\n",
    "def sql(query): # defined function because I'm lazy and didn't want keep typing methods\n",
    "    connection = sqlite3.connect('sqlite_db_pythonsqlite.db')\n",
    "    cur = connection.cursor().execute\n",
    "    return pd.DataFrame(cur(query).fetchall())\n",
    "\n",
    "sql('Select * from Facilities') #Function Test"
   ]
  },
  {
   "cell_type": "markdown",
   "id": "d037926a",
   "metadata": {},
   "source": [
    "**Q10: Produce a list of facilities with a total revenue less than 1000.\n",
    "The output of facility name and total revenue, sorted by revenue. Remember\n",
    "that there's a different cost for guests and members!**"
   ]
  },
  {
   "cell_type": "code",
   "execution_count": null,
   "id": "cb3ab5cf",
   "metadata": {},
   "outputs": [],
   "source": [
    "db=sql(\"\"\"SELECT f.name,\n",
    "    SUM(CASE \n",
    "        WHEN b.memid <>0 \n",
    "            THEN f.membercost*b.slots\n",
    "        ELSE f.guestcost*b.slots\n",
    "        END) AS revenue\n",
    "    FROM Bookings as b\n",
    "    INNER JOIN Facilities as f\n",
    "        ON b.facid = f.facid\n",
    "    GROUP BY f.name\n",
    "        HAVING revenue > 1000\n",
    "    ORDER BY revenue DESC;\n",
    "        \"\"\")\n",
    "db.rename(columns={0:'Facility', 1:'Total Revenue'})"
   ]
  },
  {
   "cell_type": "markdown",
   "id": "2aca38e3",
   "metadata": {},
   "source": [
    "**Q11: Produce a report of members and who recommended them in alphabetic surname,firstname order**"
   ]
  },
  {
   "cell_type": "code",
   "execution_count": null,
   "id": "074e20a4",
   "metadata": {},
   "outputs": [],
   "source": [
    "db=sql(\"\"\"\n",
    "    SELECT m.surname, \n",
    "    m.firstname, \n",
    "    m.recommendedby AS recomender_id, \n",
    "    r.surname || \" \" ||r.firstname  AS 'Recommended By'\n",
    "    FROM Members AS m\n",
    "    LEFT JOIN Members AS r \n",
    "        ON m.recommendedby = r.memid\n",
    "    WHERE m.recommendedby != 0\n",
    "    ORDER BY r.surname;\"\"\")\n",
    "db.rename(columns={0:'Last Name', 1:'First Name', 2:'Recommending ID', 3:'Recommended By'})"
   ]
  },
  {
   "cell_type": "markdown",
   "id": "6e49f47f",
   "metadata": {},
   "source": [
    "**Q12: Find the facilities with their usage by member, but not guests**"
   ]
  },
  {
   "cell_type": "code",
   "execution_count": null,
   "id": "a8ac64b4",
   "metadata": {},
   "outputs": [],
   "source": [
    "db=sql(\"\"\"\n",
    "SELECT b.facid, \n",
    "    COUNT(b.memid) AS 'usage', \n",
    "    f.name\n",
    "FROM \n",
    "    (SELECT facid, memid FROM Bookings WHERE memid <>0) AS b\n",
    "LEFT JOIN Facilities AS f\n",
    "    ON b.facid = f.facid\n",
    "GROUP BY b.facid;\n",
    "\"\"\")\n",
    "db.rename(columns={0:\"Facility ID\", 1:'Usage', 2:'Facility'})"
   ]
  },
  {
   "cell_type": "markdown",
   "id": "b93f4c98",
   "metadata": {},
   "source": [
    "**Q13: Find the facilities usage by month, but not guests**"
   ]
  },
  {
   "cell_type": "code",
   "execution_count": null,
   "id": "fda16b97",
   "metadata": {},
   "outputs": [],
   "source": [
    "db=sql(\"\"\"\n",
    "    SELECT b.months,\n",
    "    COUNT (b.memid) AS 'usage'\n",
    "    FROM(\n",
    "        SELECT strftime('%m', starttime) AS \"months\", memid\n",
    "        FROM Bookings\n",
    "        WHERE memid <>0) AS b\n",
    "    GROUP BY b.months;\n",
    "\"\"\")\n",
    "db.rename(columns ={0:'Month', 1:'Usage'})"
   ]
  }
 ],
 "metadata": {
  "kernelspec": {
   "display_name": "Python 3 (ipykernel)",
   "language": "python",
   "name": "python3"
  },
  "language_info": {
   "codemirror_mode": {
    "name": "ipython",
    "version": 3
   },
   "file_extension": ".py",
   "mimetype": "text/x-python",
   "name": "python",
   "nbconvert_exporter": "python",
   "pygments_lexer": "ipython3",
   "version": "3.9.12"
  }
 },
 "nbformat": 4,
 "nbformat_minor": 5
}
