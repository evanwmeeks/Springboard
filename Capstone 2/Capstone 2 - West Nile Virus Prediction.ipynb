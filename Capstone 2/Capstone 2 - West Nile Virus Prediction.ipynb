{
 "cells": [
  {
   "cell_type": "markdown",
   "id": "bce055fd",
   "metadata": {},
   "source": [
    "# Capstone 2: West Nile Virus Prediction"
   ]
  },
  {
   "cell_type": "code",
   "execution_count": 1,
   "id": "901b4e2e",
   "metadata": {},
   "outputs": [],
   "source": [
    "import pandas as pd\n",
    "import matplotlib.pyplot as plt\n",
    "import seaborn as sns\n",
    "import numpy as np"
   ]
  },
  {
   "cell_type": "code",
   "execution_count": 2,
   "id": "a5359efe",
   "metadata": {},
   "outputs": [],
   "source": [
    "train = pd.read_csv(\"train.csv\")\n",
    "weather = pd.read_csv(\"weather.csv\")"
   ]
  },
  {
   "cell_type": "markdown",
   "id": "31b095a8",
   "metadata": {},
   "source": [
    "Checking df size"
   ]
  },
  {
   "cell_type": "code",
   "execution_count": 3,
   "id": "8c6af7c6",
   "metadata": {},
   "outputs": [
    {
     "data": {
      "text/plain": [
       "(10506, 12)"
      ]
     },
     "execution_count": 3,
     "metadata": {},
     "output_type": "execute_result"
    }
   ],
   "source": [
    "train.shape"
   ]
  },
  {
   "cell_type": "code",
   "execution_count": 4,
   "id": "ff86ba58",
   "metadata": {},
   "outputs": [
    {
     "data": {
      "text/plain": [
       "(2944, 22)"
      ]
     },
     "execution_count": 4,
     "metadata": {},
     "output_type": "execute_result"
    }
   ],
   "source": [
    "weather.shape"
   ]
  },
  {
   "cell_type": "markdown",
   "id": "18893104",
   "metadata": {},
   "source": [
    "viewing data"
   ]
  },
  {
   "cell_type": "code",
   "execution_count": 5,
   "id": "7a88e315",
   "metadata": {},
   "outputs": [
    {
     "data": {
      "text/html": [
       "<div>\n",
       "<style scoped>\n",
       "    .dataframe tbody tr th:only-of-type {\n",
       "        vertical-align: middle;\n",
       "    }\n",
       "\n",
       "    .dataframe tbody tr th {\n",
       "        vertical-align: top;\n",
       "    }\n",
       "\n",
       "    .dataframe thead th {\n",
       "        text-align: right;\n",
       "    }\n",
       "</style>\n",
       "<table border=\"1\" class=\"dataframe\">\n",
       "  <thead>\n",
       "    <tr style=\"text-align: right;\">\n",
       "      <th></th>\n",
       "      <th>Date</th>\n",
       "      <th>Address</th>\n",
       "      <th>Species</th>\n",
       "      <th>Block</th>\n",
       "      <th>Street</th>\n",
       "      <th>Trap</th>\n",
       "      <th>AddressNumberAndStreet</th>\n",
       "      <th>Latitude</th>\n",
       "      <th>Longitude</th>\n",
       "      <th>AddressAccuracy</th>\n",
       "      <th>NumMosquitos</th>\n",
       "      <th>WnvPresent</th>\n",
       "    </tr>\n",
       "  </thead>\n",
       "  <tbody>\n",
       "    <tr>\n",
       "      <th>0</th>\n",
       "      <td>2007-05-29</td>\n",
       "      <td>4100 North Oak Park Avenue, Chicago, IL 60634,...</td>\n",
       "      <td>CULEX PIPIENS/RESTUANS</td>\n",
       "      <td>41</td>\n",
       "      <td>N OAK PARK AVE</td>\n",
       "      <td>T002</td>\n",
       "      <td>4100  N OAK PARK AVE, Chicago, IL</td>\n",
       "      <td>41.954690</td>\n",
       "      <td>-87.800991</td>\n",
       "      <td>9</td>\n",
       "      <td>1</td>\n",
       "      <td>0</td>\n",
       "    </tr>\n",
       "    <tr>\n",
       "      <th>1</th>\n",
       "      <td>2007-05-29</td>\n",
       "      <td>4100 North Oak Park Avenue, Chicago, IL 60634,...</td>\n",
       "      <td>CULEX RESTUANS</td>\n",
       "      <td>41</td>\n",
       "      <td>N OAK PARK AVE</td>\n",
       "      <td>T002</td>\n",
       "      <td>4100  N OAK PARK AVE, Chicago, IL</td>\n",
       "      <td>41.954690</td>\n",
       "      <td>-87.800991</td>\n",
       "      <td>9</td>\n",
       "      <td>1</td>\n",
       "      <td>0</td>\n",
       "    </tr>\n",
       "    <tr>\n",
       "      <th>2</th>\n",
       "      <td>2007-05-29</td>\n",
       "      <td>6200 North Mandell Avenue, Chicago, IL 60646, USA</td>\n",
       "      <td>CULEX RESTUANS</td>\n",
       "      <td>62</td>\n",
       "      <td>N MANDELL AVE</td>\n",
       "      <td>T007</td>\n",
       "      <td>6200  N MANDELL AVE, Chicago, IL</td>\n",
       "      <td>41.994991</td>\n",
       "      <td>-87.769279</td>\n",
       "      <td>9</td>\n",
       "      <td>1</td>\n",
       "      <td>0</td>\n",
       "    </tr>\n",
       "  </tbody>\n",
       "</table>\n",
       "</div>"
      ],
      "text/plain": [
       "         Date                                            Address  \\\n",
       "0  2007-05-29  4100 North Oak Park Avenue, Chicago, IL 60634,...   \n",
       "1  2007-05-29  4100 North Oak Park Avenue, Chicago, IL 60634,...   \n",
       "2  2007-05-29  6200 North Mandell Avenue, Chicago, IL 60646, USA   \n",
       "\n",
       "                  Species  Block           Street  Trap  \\\n",
       "0  CULEX PIPIENS/RESTUANS     41   N OAK PARK AVE  T002   \n",
       "1          CULEX RESTUANS     41   N OAK PARK AVE  T002   \n",
       "2          CULEX RESTUANS     62    N MANDELL AVE  T007   \n",
       "\n",
       "              AddressNumberAndStreet   Latitude  Longitude  AddressAccuracy  \\\n",
       "0  4100  N OAK PARK AVE, Chicago, IL  41.954690 -87.800991                9   \n",
       "1  4100  N OAK PARK AVE, Chicago, IL  41.954690 -87.800991                9   \n",
       "2   6200  N MANDELL AVE, Chicago, IL  41.994991 -87.769279                9   \n",
       "\n",
       "   NumMosquitos  WnvPresent  \n",
       "0             1           0  \n",
       "1             1           0  \n",
       "2             1           0  "
      ]
     },
     "execution_count": 5,
     "metadata": {},
     "output_type": "execute_result"
    }
   ],
   "source": [
    "train.head(3)"
   ]
  },
  {
   "cell_type": "code",
   "execution_count": 22,
   "id": "5181cead",
   "metadata": {},
   "outputs": [
    {
     "data": {
      "text/plain": [
       "Date\n",
       "2007-05-01    448.0\n",
       "2007-05-01     -1.0\n",
       "2007-05-02    447.0\n",
       "2007-05-02     -1.0\n",
       "2007-05-03    446.0\n",
       "Name: Sunrise, dtype: float64"
      ]
     },
     "execution_count": 22,
     "metadata": {},
     "output_type": "execute_result"
    }
   ],
   "source": [
    "weather['Sunrise'].head(5)"
   ]
  },
  {
   "cell_type": "markdown",
   "id": "de025e16",
   "metadata": {},
   "source": [
    "Replacing alphabetic placeholders with numeric"
   ]
  },
  {
   "cell_type": "code",
   "execution_count": 7,
   "id": "32de9bde",
   "metadata": {},
   "outputs": [],
   "source": [
    "weather = weather.replace('M', -1)\n",
    "weather = weather.replace('-', -1)\n",
    "weather = weather.replace('T', -1)\n",
    "weather = weather.replace(' T', -1)\n",
    "weather = weather.replace('  T', -1)\n"
   ]
  },
  {
   "cell_type": "markdown",
   "id": "6ade4a34",
   "metadata": {},
   "source": [
    "Verifying no null values in either train or weather."
   ]
  },
  {
   "cell_type": "code",
   "execution_count": 8,
   "id": "c9e44049",
   "metadata": {
    "scrolled": true
   },
   "outputs": [
    {
     "data": {
      "text/plain": [
       "Date                      0\n",
       "Address                   0\n",
       "Species                   0\n",
       "Block                     0\n",
       "Street                    0\n",
       "Trap                      0\n",
       "AddressNumberAndStreet    0\n",
       "Latitude                  0\n",
       "Longitude                 0\n",
       "AddressAccuracy           0\n",
       "NumMosquitos              0\n",
       "WnvPresent                0\n",
       "dtype: int64"
      ]
     },
     "execution_count": 8,
     "metadata": {},
     "output_type": "execute_result"
    }
   ],
   "source": [
    "pd.isna(train).sum()"
   ]
  },
  {
   "cell_type": "code",
   "execution_count": 9,
   "id": "febf1033",
   "metadata": {},
   "outputs": [
    {
     "data": {
      "text/plain": [
       "Station        0\n",
       "Date           0\n",
       "Tmax           0\n",
       "Tmin           0\n",
       "Tavg           0\n",
       "Depart         0\n",
       "DewPoint       0\n",
       "WetBulb        0\n",
       "Heat           0\n",
       "Cool           0\n",
       "Sunrise        0\n",
       "Sunset         0\n",
       "CodeSum        0\n",
       "Depth          0\n",
       "Water1         0\n",
       "SnowFall       0\n",
       "PrecipTotal    0\n",
       "StnPressure    0\n",
       "SeaLevel       0\n",
       "ResultSpeed    0\n",
       "ResultDir      0\n",
       "AvgSpeed       0\n",
       "dtype: int64"
      ]
     },
     "execution_count": 9,
     "metadata": {},
     "output_type": "execute_result"
    }
   ],
   "source": [
    "pd.isna(weather).sum()"
   ]
  },
  {
   "cell_type": "markdown",
   "id": "daf92863",
   "metadata": {},
   "source": [
    "checking column data types"
   ]
  },
  {
   "cell_type": "code",
   "execution_count": 15,
   "id": "e4c84ab2",
   "metadata": {},
   "outputs": [
    {
     "name": "stdout",
     "output_type": "stream",
     "text": [
      "<class 'pandas.core.frame.DataFrame'>\n",
      "DatetimeIndex: 10506 entries, 2007-05-29 to 2013-09-26\n",
      "Data columns (total 11 columns):\n",
      " #   Column                  Non-Null Count  Dtype  \n",
      "---  ------                  --------------  -----  \n",
      " 0   Address                 10506 non-null  object \n",
      " 1   Species                 10506 non-null  object \n",
      " 2   Block                   10506 non-null  int64  \n",
      " 3   Street                  10506 non-null  object \n",
      " 4   Trap                    10506 non-null  object \n",
      " 5   AddressNumberAndStreet  10506 non-null  object \n",
      " 6   Latitude                10506 non-null  float64\n",
      " 7   Longitude               10506 non-null  float64\n",
      " 8   AddressAccuracy         10506 non-null  int64  \n",
      " 9   NumMosquitos            10506 non-null  int64  \n",
      " 10  WnvPresent              10506 non-null  int64  \n",
      "dtypes: float64(2), int64(4), object(5)\n",
      "memory usage: 984.9+ KB\n"
     ]
    }
   ],
   "source": [
    "train.info()"
   ]
  },
  {
   "cell_type": "code",
   "execution_count": 16,
   "id": "705eff69",
   "metadata": {},
   "outputs": [
    {
     "name": "stdout",
     "output_type": "stream",
     "text": [
      "<class 'pandas.core.frame.DataFrame'>\n",
      "DatetimeIndex: 2944 entries, 2007-05-01 to 2014-10-31\n",
      "Data columns (total 21 columns):\n",
      " #   Column       Non-Null Count  Dtype  \n",
      "---  ------       --------------  -----  \n",
      " 0   Station      2944 non-null   int64  \n",
      " 1   Tmax         2944 non-null   float64\n",
      " 2   Tmin         2944 non-null   float64\n",
      " 3   Tavg         2944 non-null   float64\n",
      " 4   Depart       2944 non-null   float64\n",
      " 5   DewPoint     2944 non-null   float64\n",
      " 6   WetBulb      2944 non-null   float64\n",
      " 7   Heat         2944 non-null   float64\n",
      " 8   Cool         2944 non-null   float64\n",
      " 9   Sunrise      2944 non-null   float64\n",
      " 10  Sunset       2944 non-null   float64\n",
      " 11  CodeSum      2944 non-null   object \n",
      " 12  Depth        2944 non-null   float64\n",
      " 13  Water1       2944 non-null   float64\n",
      " 14  SnowFall     2944 non-null   float64\n",
      " 15  PrecipTotal  2944 non-null   float64\n",
      " 16  StnPressure  2944 non-null   float64\n",
      " 17  SeaLevel     2944 non-null   float64\n",
      " 18  ResultSpeed  2944 non-null   float64\n",
      " 19  ResultDir    2944 non-null   float64\n",
      " 20  AvgSpeed     2944 non-null   float64\n",
      "dtypes: float64(19), int64(1), object(1)\n",
      "memory usage: 506.0+ KB\n"
     ]
    }
   ],
   "source": [
    "weather.info()"
   ]
  },
  {
   "cell_type": "markdown",
   "id": "d532a6f6",
   "metadata": {},
   "source": [
    "Converting date columns to datetime object and setting the date as the index. "
   ]
  },
  {
   "cell_type": "code",
   "execution_count": 12,
   "id": "2c8fc0cd",
   "metadata": {},
   "outputs": [],
   "source": [
    "train['Date'] = pd.to_datetime(train.Date, format='%Y-%m-%d')\n",
    "train.set_index('Date', inplace=True, drop=True)\n",
    "weather['Date'] = pd.to_datetime(weather.Date, format='%Y-%m-%d')\n",
    "weather.set_index('Date', inplace=True, drop=True)"
   ]
  },
  {
   "cell_type": "markdown",
   "id": "e5201464",
   "metadata": {},
   "source": [
    "converting remaining columns in Weather with numeric values to int data types"
   ]
  },
  {
   "cell_type": "markdown",
   "id": "83ad0101",
   "metadata": {},
   "source": [
    "*Rahul, what's the best way to convert Sunrise/Sunset to datetime objects when "
   ]
  },
  {
   "cell_type": "code",
   "execution_count": 26,
   "id": "963537c3",
   "metadata": {},
   "outputs": [
    {
     "name": "stdout",
     "output_type": "stream",
     "text": [
      "<class 'pandas.core.frame.DataFrame'>\n",
      "DatetimeIndex: 2944 entries, 2007-05-01 to 2014-10-31\n",
      "Data columns (total 21 columns):\n",
      " #   Column       Non-Null Count  Dtype  \n",
      "---  ------       --------------  -----  \n",
      " 0   Station      2944 non-null   int64  \n",
      " 1   Tmax         2944 non-null   float64\n",
      " 2   Tmin         2944 non-null   float64\n",
      " 3   Tavg         2944 non-null   float64\n",
      " 4   Depart       2944 non-null   float64\n",
      " 5   DewPoint     2944 non-null   float64\n",
      " 6   WetBulb      2944 non-null   float64\n",
      " 7   Heat         2944 non-null   float64\n",
      " 8   Cool         2944 non-null   float64\n",
      " 9   Sunrise      2944 non-null   float64\n",
      " 10  Sunset       2944 non-null   float64\n",
      " 11  CodeSum      2944 non-null   object \n",
      " 12  Depth        2944 non-null   float64\n",
      " 13  Water1       2944 non-null   float64\n",
      " 14  SnowFall     2944 non-null   float64\n",
      " 15  PrecipTotal  2944 non-null   float64\n",
      " 16  StnPressure  2944 non-null   float64\n",
      " 17  SeaLevel     2944 non-null   float64\n",
      " 18  ResultSpeed  2944 non-null   float64\n",
      " 19  ResultDir    2944 non-null   float64\n",
      " 20  AvgSpeed     2944 non-null   float64\n",
      "dtypes: float64(19), int64(1), object(1)\n",
      "memory usage: 506.0+ KB\n"
     ]
    }
   ],
   "source": [
    "##Does 'train' columns that are the 'object' type need to be converted? \n",
    "for column in weather.columns[1:]:\n",
    "        weather[column]=weather[column].astype(np.float64, errors='ignore')\n",
    "\n",
    "\n",
    "weather.info()\n"
   ]
  },
  {
   "cell_type": "code",
   "execution_count": 14,
   "id": "fa863112",
   "metadata": {
    "scrolled": true
   },
   "outputs": [
    {
     "data": {
      "text/html": [
       "<div>\n",
       "<style scoped>\n",
       "    .dataframe tbody tr th:only-of-type {\n",
       "        vertical-align: middle;\n",
       "    }\n",
       "\n",
       "    .dataframe tbody tr th {\n",
       "        vertical-align: top;\n",
       "    }\n",
       "\n",
       "    .dataframe thead th {\n",
       "        text-align: right;\n",
       "    }\n",
       "</style>\n",
       "<table border=\"1\" class=\"dataframe\">\n",
       "  <thead>\n",
       "    <tr style=\"text-align: right;\">\n",
       "      <th></th>\n",
       "      <th>Station</th>\n",
       "      <th>Tmax</th>\n",
       "      <th>Tmin</th>\n",
       "      <th>Tavg</th>\n",
       "      <th>Depart</th>\n",
       "      <th>DewPoint</th>\n",
       "      <th>WetBulb</th>\n",
       "      <th>Heat</th>\n",
       "      <th>Cool</th>\n",
       "      <th>Sunrise</th>\n",
       "      <th>...</th>\n",
       "      <th>CodeSum</th>\n",
       "      <th>Depth</th>\n",
       "      <th>Water1</th>\n",
       "      <th>SnowFall</th>\n",
       "      <th>PrecipTotal</th>\n",
       "      <th>StnPressure</th>\n",
       "      <th>SeaLevel</th>\n",
       "      <th>ResultSpeed</th>\n",
       "      <th>ResultDir</th>\n",
       "      <th>AvgSpeed</th>\n",
       "    </tr>\n",
       "    <tr>\n",
       "      <th>Date</th>\n",
       "      <th></th>\n",
       "      <th></th>\n",
       "      <th></th>\n",
       "      <th></th>\n",
       "      <th></th>\n",
       "      <th></th>\n",
       "      <th></th>\n",
       "      <th></th>\n",
       "      <th></th>\n",
       "      <th></th>\n",
       "      <th></th>\n",
       "      <th></th>\n",
       "      <th></th>\n",
       "      <th></th>\n",
       "      <th></th>\n",
       "      <th></th>\n",
       "      <th></th>\n",
       "      <th></th>\n",
       "      <th></th>\n",
       "      <th></th>\n",
       "      <th></th>\n",
       "    </tr>\n",
       "  </thead>\n",
       "  <tbody>\n",
       "    <tr>\n",
       "      <th>2007-05-01</th>\n",
       "      <td>1</td>\n",
       "      <td>83.0</td>\n",
       "      <td>50.0</td>\n",
       "      <td>67.0</td>\n",
       "      <td>14.0</td>\n",
       "      <td>51.0</td>\n",
       "      <td>56.0</td>\n",
       "      <td>0.0</td>\n",
       "      <td>2.0</td>\n",
       "      <td>448.0</td>\n",
       "      <td>...</td>\n",
       "      <td></td>\n",
       "      <td>0.0</td>\n",
       "      <td>-1.0</td>\n",
       "      <td>0.0</td>\n",
       "      <td>0.0</td>\n",
       "      <td>29.10</td>\n",
       "      <td>29.82</td>\n",
       "      <td>1.7</td>\n",
       "      <td>27.0</td>\n",
       "      <td>9.2</td>\n",
       "    </tr>\n",
       "    <tr>\n",
       "      <th>2007-05-01</th>\n",
       "      <td>2</td>\n",
       "      <td>84.0</td>\n",
       "      <td>52.0</td>\n",
       "      <td>68.0</td>\n",
       "      <td>-1.0</td>\n",
       "      <td>51.0</td>\n",
       "      <td>57.0</td>\n",
       "      <td>0.0</td>\n",
       "      <td>3.0</td>\n",
       "      <td>-1.0</td>\n",
       "      <td>...</td>\n",
       "      <td></td>\n",
       "      <td>-1.0</td>\n",
       "      <td>-1.0</td>\n",
       "      <td>-1.0</td>\n",
       "      <td>0.0</td>\n",
       "      <td>29.18</td>\n",
       "      <td>29.82</td>\n",
       "      <td>2.7</td>\n",
       "      <td>25.0</td>\n",
       "      <td>9.6</td>\n",
       "    </tr>\n",
       "    <tr>\n",
       "      <th>2007-05-02</th>\n",
       "      <td>1</td>\n",
       "      <td>59.0</td>\n",
       "      <td>42.0</td>\n",
       "      <td>51.0</td>\n",
       "      <td>-3.0</td>\n",
       "      <td>42.0</td>\n",
       "      <td>47.0</td>\n",
       "      <td>14.0</td>\n",
       "      <td>0.0</td>\n",
       "      <td>447.0</td>\n",
       "      <td>...</td>\n",
       "      <td>BR</td>\n",
       "      <td>0.0</td>\n",
       "      <td>-1.0</td>\n",
       "      <td>0.0</td>\n",
       "      <td>0.0</td>\n",
       "      <td>29.38</td>\n",
       "      <td>30.09</td>\n",
       "      <td>13.0</td>\n",
       "      <td>4.0</td>\n",
       "      <td>13.4</td>\n",
       "    </tr>\n",
       "    <tr>\n",
       "      <th>2007-05-02</th>\n",
       "      <td>2</td>\n",
       "      <td>60.0</td>\n",
       "      <td>43.0</td>\n",
       "      <td>52.0</td>\n",
       "      <td>-1.0</td>\n",
       "      <td>42.0</td>\n",
       "      <td>47.0</td>\n",
       "      <td>13.0</td>\n",
       "      <td>0.0</td>\n",
       "      <td>-1.0</td>\n",
       "      <td>...</td>\n",
       "      <td>BR HZ</td>\n",
       "      <td>-1.0</td>\n",
       "      <td>-1.0</td>\n",
       "      <td>-1.0</td>\n",
       "      <td>0.0</td>\n",
       "      <td>29.44</td>\n",
       "      <td>30.08</td>\n",
       "      <td>13.3</td>\n",
       "      <td>2.0</td>\n",
       "      <td>13.4</td>\n",
       "    </tr>\n",
       "    <tr>\n",
       "      <th>2007-05-03</th>\n",
       "      <td>1</td>\n",
       "      <td>66.0</td>\n",
       "      <td>46.0</td>\n",
       "      <td>56.0</td>\n",
       "      <td>2.0</td>\n",
       "      <td>40.0</td>\n",
       "      <td>48.0</td>\n",
       "      <td>9.0</td>\n",
       "      <td>0.0</td>\n",
       "      <td>446.0</td>\n",
       "      <td>...</td>\n",
       "      <td></td>\n",
       "      <td>0.0</td>\n",
       "      <td>-1.0</td>\n",
       "      <td>0.0</td>\n",
       "      <td>0.0</td>\n",
       "      <td>29.39</td>\n",
       "      <td>30.12</td>\n",
       "      <td>11.7</td>\n",
       "      <td>7.0</td>\n",
       "      <td>11.9</td>\n",
       "    </tr>\n",
       "  </tbody>\n",
       "</table>\n",
       "<p>5 rows × 21 columns</p>\n",
       "</div>"
      ],
      "text/plain": [
       "            Station  Tmax  Tmin  Tavg  Depart  DewPoint  WetBulb  Heat  Cool  \\\n",
       "Date                                                                           \n",
       "2007-05-01        1  83.0  50.0  67.0    14.0      51.0     56.0   0.0   2.0   \n",
       "2007-05-01        2  84.0  52.0  68.0    -1.0      51.0     57.0   0.0   3.0   \n",
       "2007-05-02        1  59.0  42.0  51.0    -3.0      42.0     47.0  14.0   0.0   \n",
       "2007-05-02        2  60.0  43.0  52.0    -1.0      42.0     47.0  13.0   0.0   \n",
       "2007-05-03        1  66.0  46.0  56.0     2.0      40.0     48.0   9.0   0.0   \n",
       "\n",
       "            Sunrise  ...  CodeSum Depth  Water1  SnowFall  PrecipTotal  \\\n",
       "Date                 ...                                                 \n",
       "2007-05-01    448.0  ...            0.0    -1.0       0.0          0.0   \n",
       "2007-05-01     -1.0  ...           -1.0    -1.0      -1.0          0.0   \n",
       "2007-05-02    447.0  ...       BR   0.0    -1.0       0.0          0.0   \n",
       "2007-05-02     -1.0  ...    BR HZ  -1.0    -1.0      -1.0          0.0   \n",
       "2007-05-03    446.0  ...            0.0    -1.0       0.0          0.0   \n",
       "\n",
       "            StnPressure  SeaLevel  ResultSpeed  ResultDir  AvgSpeed  \n",
       "Date                                                                 \n",
       "2007-05-01        29.10     29.82          1.7       27.0       9.2  \n",
       "2007-05-01        29.18     29.82          2.7       25.0       9.6  \n",
       "2007-05-02        29.38     30.09         13.0        4.0      13.4  \n",
       "2007-05-02        29.44     30.08         13.3        2.0      13.4  \n",
       "2007-05-03        29.39     30.12         11.7        7.0      11.9  \n",
       "\n",
       "[5 rows x 21 columns]"
      ]
     },
     "execution_count": 14,
     "metadata": {},
     "output_type": "execute_result"
    }
   ],
   "source": [
    "weather.head(5)"
   ]
  }
 ],
 "metadata": {
  "kernelspec": {
   "display_name": "Python 3 (ipykernel)",
   "language": "python",
   "name": "python3"
  },
  "language_info": {
   "codemirror_mode": {
    "name": "ipython",
    "version": 3
   },
   "file_extension": ".py",
   "mimetype": "text/x-python",
   "name": "python",
   "nbconvert_exporter": "python",
   "pygments_lexer": "ipython3",
   "version": "3.10.4"
  }
 },
 "nbformat": 4,
 "nbformat_minor": 5
}
