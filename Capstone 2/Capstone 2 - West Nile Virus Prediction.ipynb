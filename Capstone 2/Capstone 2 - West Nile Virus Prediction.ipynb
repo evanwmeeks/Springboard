{
 "cells": [
  {
   "cell_type": "markdown",
   "id": "bce055fd",
   "metadata": {},
   "source": [
    "# Capstone 2: West Nile Virus Prediction"
   ]
  },
  {
   "cell_type": "code",
   "execution_count": 1,
   "id": "901b4e2e",
   "metadata": {},
   "outputs": [],
   "source": [
    "import pandas as pd\n",
    "import matplotlib.pyplot as plt\n",
    "import seaborn as sns\n",
    "import numpy as np"
   ]
  },
  {
   "cell_type": "code",
   "execution_count": 5,
   "id": "a5359efe",
   "metadata": {},
   "outputs": [],
   "source": [
    "train = pd.read_csv(\"train.csv\")\n",
    "weather = pd.read_csv(\"weather.csv\")"
   ]
  },
  {
   "cell_type": "code",
   "execution_count": 14,
   "id": "c9e44049",
   "metadata": {},
   "outputs": [
    {
     "ename": "SyntaxError",
     "evalue": "invalid syntax (2134537227.py, line 1)",
     "output_type": "error",
     "traceback": [
      "\u001b[0;36m  File \u001b[0;32m\"/var/folders/b2/h4qnkctx6ts90k0f6nt21pj80000gn/T/ipykernel_55248/2134537227.py\"\u001b[0;36m, line \u001b[0;32m1\u001b[0m\n\u001b[0;31m    pd.~isna(train).sum()\u001b[0m\n\u001b[0m       ^\u001b[0m\n\u001b[0;31mSyntaxError\u001b[0m\u001b[0;31m:\u001b[0m invalid syntax\n"
     ]
    }
   ],
   "source": [
    "pd.~isna(train).sum()"
   ]
  },
  {
   "cell_type": "code",
   "execution_count": 7,
   "id": "5181cead",
   "metadata": {},
   "outputs": [
    {
     "name": "stdout",
     "output_type": "stream",
     "text": [
      "   Station        Date  Tmax  Tmin Tavg Depart  DewPoint WetBulb Heat Cool  \\\n",
      "0        1  2007-05-01    83    50   67     14        51      56    0    2   \n",
      "1        2  2007-05-01    84    52   68      M        51      57    0    3   \n",
      "2        1  2007-05-02    59    42   51     -3        42      47   14    0   \n",
      "3        2  2007-05-02    60    43   52      M        42      47   13    0   \n",
      "4        1  2007-05-03    66    46   56      2        40      48    9    0   \n",
      "\n",
      "   ... CodeSum Depth Water1 SnowFall PrecipTotal StnPressure SeaLevel  \\\n",
      "0  ...             0      M      0.0        0.00       29.10    29.82   \n",
      "1  ...             M      M        M        0.00       29.18    29.82   \n",
      "2  ...      BR     0      M      0.0        0.00       29.38    30.09   \n",
      "3  ...   BR HZ     M      M        M        0.00       29.44    30.08   \n",
      "4  ...             0      M      0.0        0.00       29.39    30.12   \n",
      "\n",
      "  ResultSpeed ResultDir  AvgSpeed  \n",
      "0         1.7        27       9.2  \n",
      "1         2.7        25       9.6  \n",
      "2        13.0         4      13.4  \n",
      "3        13.3         2      13.4  \n",
      "4        11.7         7      11.9  \n",
      "\n",
      "[5 rows x 22 columns]\n"
     ]
    }
   ],
   "source": [
    "print(weather.head(5))"
   ]
  }
 ],
 "metadata": {
  "kernelspec": {
   "display_name": "Python 3 (ipykernel)",
   "language": "python",
   "name": "python3"
  },
  "language_info": {
   "codemirror_mode": {
    "name": "ipython",
    "version": 3
   },
   "file_extension": ".py",
   "mimetype": "text/x-python",
   "name": "python",
   "nbconvert_exporter": "python",
   "pygments_lexer": "ipython3",
   "version": "3.9.7"
  }
 },
 "nbformat": 4,
 "nbformat_minor": 5
}
