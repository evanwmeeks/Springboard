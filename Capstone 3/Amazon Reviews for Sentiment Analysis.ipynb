{
 "cells": [
  {
   "cell_type": "markdown",
   "id": "f1241de7",
   "metadata": {},
   "source": [
    "Note. Due to filesize, the raw data wasn't uploaded to this repository. The files can be found at: https://www.kaggle.com/datasets/bittlingmayer/amazonreviews/code"
   ]
  },
  {
   "cell_type": "code",
   "execution_count": 4,
   "id": "c7a25e18",
   "metadata": {},
   "outputs": [],
   "source": [
    "from mpl_toolkits.mplot3d import Axes3D\n",
    "from sklearn.preprocessing import StandardScaler\n",
    "import matplotlib.pyplot as plt \n",
    "import numpy as np \n",
    "import pandas as pd\n",
    "import fasttext as ft"
   ]
  },
  {
   "cell_type": "code",
   "execution_count": 9,
   "id": "0389b165",
   "metadata": {},
   "outputs": [],
   "source": [
    "def load_extract(file):\n",
    "    texts, labels = [], [] \n",
    "    for line in file:\n",
    "        x = line.decode('utf-8')  # decode binary to string\n",
    "        labels.append(int(x[9]) - 1)  # extract labels\n",
    "        texts.append(x[10:].strip())  # extract texts\n",
    "    print('Done !')\n",
    "    return np.array(labels), texts"
   ]
  }
 ],
 "metadata": {
  "kernelspec": {
   "display_name": "Python 3 (ipykernel)",
   "language": "python",
   "name": "python3"
  },
  "language_info": {
   "codemirror_mode": {
    "name": "ipython",
    "version": 3
   },
   "file_extension": ".py",
   "mimetype": "text/x-python",
   "name": "python",
   "nbconvert_exporter": "python",
   "pygments_lexer": "ipython3",
   "version": "3.8.13"
  }
 },
 "nbformat": 4,
 "nbformat_minor": 5
}
